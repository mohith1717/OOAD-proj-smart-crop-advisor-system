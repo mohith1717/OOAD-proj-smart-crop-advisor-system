{
 "cells": [
  {
   "cell_type": "code",
   "execution_count": 2,
   "metadata": {},
   "outputs": [
    {
     "name": "stdout",
     "output_type": "stream",
     "text": [
      "Requirement already satisfied: pandas in ./.venv/lib/python3.12/site-packages (2.2.3)\n",
      "Requirement already satisfied: scikit-learn in ./.venv/lib/python3.12/site-packages (1.6.1)\n",
      "Requirement already satisfied: numpy>=1.26.0 in ./.venv/lib/python3.12/site-packages (from pandas) (2.2.4)\n",
      "Requirement already satisfied: python-dateutil>=2.8.2 in ./.venv/lib/python3.12/site-packages (from pandas) (2.9.0.post0)\n",
      "Requirement already satisfied: pytz>=2020.1 in ./.venv/lib/python3.12/site-packages (from pandas) (2025.2)\n",
      "Requirement already satisfied: tzdata>=2022.7 in ./.venv/lib/python3.12/site-packages (from pandas) (2025.2)\n",
      "Requirement already satisfied: scipy>=1.6.0 in ./.venv/lib/python3.12/site-packages (from scikit-learn) (1.15.2)\n",
      "Requirement already satisfied: joblib>=1.2.0 in ./.venv/lib/python3.12/site-packages (from scikit-learn) (1.4.2)\n",
      "Requirement already satisfied: threadpoolctl>=3.1.0 in ./.venv/lib/python3.12/site-packages (from scikit-learn) (3.6.0)\n",
      "Requirement already satisfied: six>=1.5 in ./.venv/lib/python3.12/site-packages (from python-dateutil>=2.8.2->pandas) (1.17.0)\n",
      "Note: you may need to restart the kernel to use updated packages.\n",
      "                         State                  District      Crop     Year  \\\n",
      "0  Andaman and Nicobar Islands                  NICOBARS  Arecanut  2001-02   \n",
      "1  Andaman and Nicobar Islands                  NICOBARS  Arecanut  2002-03   \n",
      "2  Andaman and Nicobar Islands                  NICOBARS  Arecanut  2003-04   \n",
      "3  Andaman and Nicobar Islands  NORTH AND MIDDLE ANDAMAN  Arecanut  2001-02   \n",
      "4  Andaman and Nicobar Islands            SOUTH ANDAMANS  Arecanut  2002-03   \n",
      "\n",
      "       Season    Area Area Units  Production Production Units     Yield  \n",
      "0      Kharif  1254.0    Hectare      2061.0           Tonnes  1.643541  \n",
      "1  Whole Year  1258.0    Hectare      2083.0           Tonnes  1.655803  \n",
      "2  Whole Year  1261.0    Hectare      1525.0           Tonnes  1.209358  \n",
      "3      Kharif  3100.0    Hectare      5239.0           Tonnes  1.690000  \n",
      "4  Whole Year  3105.0    Hectare      5267.0           Tonnes  1.696296  \n"
     ]
    }
   ],
   "source": [
    "%pip install pandas scikit-learn\n",
    "import pandas as pd\n",
    "from sklearn.preprocessing import LabelEncoder, MinMaxScaler\n",
    "from sklearn.model_selection import train_test_split\n",
    "\n",
    "# Load the dataset\n",
    "data = pd.read_csv(\"India Agriculture Crop Production.csv\")\n",
    "print(data.head())\n",
    "# Drop rows with missing values\n",
    "data = data.dropna()\n",
    "\n",
    "# Encode categorical variables\n",
    "le_state = LabelEncoder()\n",
    "le_district = LabelEncoder()\n",
    "le_season = LabelEncoder()\n",
    "le_crop = LabelEncoder()\n",
    "\n",
    "data['State'] = le_state.fit_transform(data['State'])\n",
    "data['District'] = le_district.fit_transform(data['District'])\n",
    "data['Season'] = le_season.fit_transform(data['Season'])\n",
    "data['Crop'] = le_crop.fit_transform(data['Crop'])\n",
    "\n",
    "# Normalize the 'Area' column\n",
    "scaler = MinMaxScaler()\n",
    "data['Area'] = scaler.fit_transform(data[['Area']])\n",
    "\n",
    "# Define features (X) and target (y)\n",
    "X = data[['State', 'District', 'Season', 'Area']]\n",
    "y = data['Yield']  # Target is the yield\n",
    "\n",
    "# Split the data into training and testing sets\n",
    "X_train, X_test, y_train, y_test = train_test_split(X, y, test_size=0.2, random_state=42)"
   ]
  },
  {
   "cell_type": "code",
   "execution_count": 3,
   "metadata": {},
   "outputs": [
    {
     "name": "stdout",
     "output_type": "stream",
     "text": [
      "Mean Squared Error: 422537.2961077155\n",
      "R2 Score: 0.47479903257061706\n"
     ]
    }
   ],
   "source": [
    "from sklearn.ensemble import RandomForestRegressor\n",
    "from sklearn.metrics import mean_squared_error, r2_score\n",
    "\n",
    "# Train the model\n",
    "model = RandomForestRegressor(n_estimators=100, random_state=42)\n",
    "model.fit(X_train, y_train)\n",
    "\n",
    "# Evaluate the model\n",
    "y_pred = model.predict(X_test)\n",
    "print(\"Mean Squared Error:\", mean_squared_error(y_test, y_pred))\n",
    "print(\"R2 Score:\", r2_score(y_test, y_pred))"
   ]
  },
  {
   "cell_type": "code",
   "execution_count": null,
   "metadata": {},
   "outputs": [
    {
     "name": "stdout",
     "output_type": "stream",
     "text": [
      "Recommended Crop: Arecanut, Predicted Yield: 0.85 tonnes/hectare\n",
      "[ 0  1  2  3  4  5  6  7  8  9 10 11 12 13 14 15 16 17 19 20 21 22 23 24\n",
      " 25 26 27 28 29 30 32 33 34 35 31 18]\n"
     ]
    }
   ],
   "source": [
    "def recommend_crop(state, district, season, area):\n",
    "    # Create a DataFrame for all crops\n",
    "    crops = data['Crop'].unique()\n",
    "    input_data = pd.DataFrame({\n",
    "        'State': [state] * len(crops),\n",
    "        'District': [district] * len(crops),\n",
    "        'Season': [season] * len(crops),\n",
    "        'Area': [area] * len(crops),\n",
    "        'Crop': crops\n",
    "    })\n",
    "\n",
    "    # Predict yield for all crops\n",
    "    input_data['Area'] = scaler.transform(input_data[['Area']])  # Normalize the area\n",
    "    input_data['Yield'] = model.predict(input_data[['State', 'District', 'Season', 'Area']])\n",
    "\n",
    "    # Decode crop names\n",
    "    input_data['Crop'] = le_crop.inverse_transform(input_data['Crop'])\n",
    "\n",
    "    # Sort by yield and return the top crop\n",
    "    recommended_crop = input_data.sort_values(by='Yield', ascending=False).iloc[0]\n",
    "    return recommended_crop['Crop'], recommended_crop['Yield']\n",
    "\n",
    "# Example usage\n",
    "state = le_state.transform(['Karnataka'])[0]  # Replace with a valid state from your dataset\n",
    "district = le_district.transform(['BANGALORE RURAL'])[0]  # Replace with a valid district\n",
    "season = le_season.transform(['Rabi'])[0]  # Replace with a valid season\n",
    "area = 10.0  # Example area in hectares\n",
    "\n",
    "crop, yield_value = recommend_crop(state, district, season, area)\n",
    "print(f\"Recommended Crop: {crop}, Predicted Yield: {yield_value:.2f} tonnes/hectare\")\n",
    "# print(data['State'].unique())  # List of valid states\n",
    "# print(data['District'].unique())  # List of valid districts\n",
    "# print(data['Season'].unique())  # List of valid seasons"
   ]
  },
  {
   "cell_type": "code",
   "execution_count": 11,
   "metadata": {},
   "outputs": [
    {
     "name": "stdout",
     "output_type": "stream",
     "text": [
      "['Karnataka']\n",
      "['BANGALORE RURAL']\n",
      "['Rabi']\n",
      "Empty DataFrame\n",
      "Columns: [Area, Yield]\n",
      "Index: []\n"
     ]
    }
   ],
   "source": [
    "print(le_state.inverse_transform([state]))  # Should return 'Karnataka'\n",
    "print(le_district.inverse_transform([district]))  # Should return 'BANGALORE RURAL'\n",
    "print(le_season.inverse_transform([season]))  # Should return 'Rabi'\n",
    "# print(data['Crop'].value_counts()) \n",
    "# # Check the distribution of crops in the dataset\n",
    "actual_data = data[\n",
    "    (data['State'] == state) &\n",
    "    (data['District'] == district) &\n",
    "    (data['Season'] == season) &\n",
    "    (data['Crop'] == le_crop.transform(['Arecanut'])[0])\n",
    "]\n",
    "print(actual_data[['Area', 'Yield']])  # Compare actual yield values"
   ]
  },
  {
   "cell_type": "code",
   "execution_count": 13,
   "metadata": {},
   "outputs": [
    {
     "name": "stdout",
     "output_type": "stream",
     "text": [
      "State  District  Season  Crop\n",
      "0      38        0       0        2\n",
      "                         3        2\n",
      "                         5        2\n",
      "                         41       2\n",
      "                         47       2\n",
      "                                 ..\n",
      "35     531       4       51       6\n",
      "                         52      12\n",
      "                 5       38       2\n",
      "                         41      23\n",
      "                         44      13\n",
      "Length: 35159, dtype: int64\n"
     ]
    }
   ],
   "source": [
    "print(data.groupby(['State', 'District', 'Season', 'Crop']).size())"
   ]
  }
 ],
 "metadata": {
  "kernelspec": {
   "display_name": ".venv",
   "language": "python",
   "name": "python3"
  },
  "language_info": {
   "codemirror_mode": {
    "name": "ipython",
    "version": 3
   },
   "file_extension": ".py",
   "mimetype": "text/x-python",
   "name": "python",
   "nbconvert_exporter": "python",
   "pygments_lexer": "ipython3",
   "version": "3.12.9"
  }
 },
 "nbformat": 4,
 "nbformat_minor": 2
}
